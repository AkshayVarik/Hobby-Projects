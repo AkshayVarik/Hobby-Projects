{
 "cells": [
  {
   "cell_type": "code",
   "execution_count": 8,
   "metadata": {
    "collapsed": false
   },
   "outputs": [],
   "source": [
    "def print_board(board):                    # this is how a function is defined with print_board being the variable and the \n",
    "                                           # argument passed here is board.\n",
    "        print (\"This is the board: \\n\")\n",
    "        \n",
    "        for i in range(3):                 # range will take the values 0,1 and 2\n",
    "            print (\" \"),                     \n",
    "            for j in range(3):\n",
    "                if board[i*3+j]==1:\n",
    "                    print ('X'),\n",
    "                elif board[i*3+j]==0:\n",
    "                     print ('O'),\n",
    "                elif board[1*3+j]!=-1:\n",
    "                     print (board[i*3+j]-1),\n",
    "                else:\n",
    "                    print (' '),\n",
    "                if j!=2:\n",
    "                    print (\" | \"),\n",
    "            print()\n",
    "            \n",
    "            if i!=2:\n",
    "                print (\"-----------------------\")\n",
    "            else:\n",
    "                print()"
   ]
  },
  {
   "cell_type": "code",
   "execution_count": 9,
   "metadata": {
    "collapsed": false
   },
   "outputs": [],
   "source": [
    "def print_instruction():\n",
    "    print (\"Please use the following cell numbers to make your move\")\n",
    "    print_board([2,3,4,5,6,7,8,9,10])"
   ]
  },
  {
   "cell_type": "code",
   "execution_count": 11,
   "metadata": {
    "collapsed": false
   },
   "outputs": [],
   "source": [
    "def get_input(turn):\n",
    "\n",
    "    valid = False\n",
    "    while not valid:\n",
    "        try:\n",
    "            user = raw_input(\"Where would you like to place \" + turn + \" (1-9)? \")\n",
    "            user = int(user)\n",
    "            if user >= 1 and user <= 9:\n",
    "                return user-1\n",
    "            else:\n",
    "                print (\"That is not a valid move! Please try again.\\n\")\n",
    "                print_instruction()\n",
    "        except Exception as e:\n",
    "            print (user + \" is not a valid move! Please try again.\\n\")"
   ]
  },
  {
   "cell_type": "code",
   "execution_count": 12,
   "metadata": {
    "collapsed": true
   },
   "outputs": [],
   "source": [
    "def check_win(board):\n",
    "    win_cond = ((1,2,3),(4,5,6),(7,8,9),(1,4,7),(2,5,8),(3,6,9),(1,5,9),(3,5,7))\n",
    "    for each in win_cond:\n",
    "        try:\n",
    "            if board[each[0]-1] == board[each[1]-1] and board[each[1]-1] == board[each[2]-1]:\n",
    "                return board[each[0]-1]\n",
    "        except:\n",
    "            pass\n",
    "    return -1"
   ]
  },
  {
   "cell_type": "code",
   "execution_count": 13,
   "metadata": {
    "collapsed": true
   },
   "outputs": [],
   "source": [
    "def quit_game(board,msg):\n",
    "    print_board(board)\n",
    "    print (msg)\n",
    "    quit()"
   ]
  },
  {
   "cell_type": "code",
   "execution_count": null,
   "metadata": {
    "collapsed": true
   },
   "outputs": [],
   "source": [
    "def main():\n",
    "\n",
    "    # setup game\n",
    "    # alternate turns\n",
    "    # check if win or end\n",
    "    # quit and show the board\n",
    "    \n",
    "    print_instruction()\n",
    "\n",
    "    board = []\n",
    "    for i in range(9):\n",
    "        board.append(-1)\n",
    "\n",
    "    win = False\n",
    "    move = 0\n",
    "    while not win:\n",
    "\n",
    "        # print board\n",
    "        print_board(board)\n",
    "        print (\"Turn number \" + str(move+1))\n",
    "        if move % 2 == 0:\n",
    "            turn = 'X'\n",
    "        else:\n",
    "            turn = 'O'\n",
    "\n",
    "        # get user input\n",
    "        user = get_input(turn)\n",
    "        while board[user] != -1:\n",
    "            print (\"Invalid move! Cell already taken. Please try again.\\n\")\n",
    "            user = get_input(turn)\n",
    "        board[user] = 1 if turn == 'X' else 0\n",
    "\n",
    "        # advance move and check for end game\n",
    "        move += 1\n",
    "        if move > 4:\n",
    "            winner = check_win(board)\n",
    "            if winner != -1:\n",
    "                out = \"The winner is \" \n",
    "                out += \"X\" if winner == 1 else \"O\" \n",
    "                out += \" :)\"\n",
    "                quit_game(board,out)\n",
    "            elif move == 9:\n",
    "                quit_game(board,\"No winner :(\")\n",
    "if __name__ == \"__main__\":\n",
    "    main()\n",
    "    "
   ]
  }
 ],
 "metadata": {
  "kernelspec": {
   "display_name": "Python 3",
   "language": "python",
   "name": "python3"
  },
  "language_info": {
   "codemirror_mode": {
    "name": "ipython",
    "version": 3
   },
   "file_extension": ".py",
   "mimetype": "text/x-python",
   "name": "python",
   "nbconvert_exporter": "python",
   "pygments_lexer": "ipython3",
   "version": "3.5.1"
  }
 },
 "nbformat": 4,
 "nbformat_minor": 0
}
